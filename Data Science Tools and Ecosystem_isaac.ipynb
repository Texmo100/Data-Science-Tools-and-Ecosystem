{
 "cells": [
  {
   "cell_type": "markdown",
   "metadata": {},
   "source": [
    "<center>\n",
    "    <img src=\"https://cf-courses-data.s3.us.cloud-object-storage.appdomain.cloud/IBMDeveloperSkillsNetwork-DS0105EN-SkillsNetwork/labs/Module2/images/SN_web_lightmode.png\" width=\"300\" alt=\"cognitiveclass.ai logo\">\n",
    "</center>\n"
   ]
  },
  {
   "cell_type": "markdown",
   "metadata": {},
   "source": [
    "# **Data Science Tools and Ecosystem**"
   ]
  },
  {
   "cell_type": "markdown",
   "metadata": {},
   "source": [
    "Welcome folks, this Jupyter Notebook is a brief summary about **Tools for Data Science**. Hopefully it could serve as a great refreasher if you needed. Let me know if there's any areas of improvement."
   ]
  },
  {
   "cell_type": "markdown",
   "metadata": {},
   "source": [
    "## **Data Science Languages**"
   ]
  },
  {
   "cell_type": "markdown",
   "metadata": {},
   "source": [
    "In this first section we will explore a list of the most popular languages used in Data Science with a fun combination of their pros and cons. Thus, you can keep them in mind whenever Data Science calls you!"
   ]
  },
  {
   "cell_type": "markdown",
   "metadata": {},
   "source": [
    "#### 1. Python"
   ]
  },
  {
   "cell_type": "markdown",
   "metadata": {},
   "source": [
    "**Pros**\n",
    "- Extensive libraries (e.g., Pandas, NumPy, Scikit-learn, TensorFlow, PyTorch).\n",
    "- Easy to learn and read, with a large community.\n",
    "- Great for machine learning, deep learning, and data visualization.\n",
    "- Integrates well with other tools and platforms."
   ]
  },
  {
   "cell_type": "markdown",
   "metadata": {},
   "source": [
    "**Cons**\n",
    "- Slower than compiled languages like C++ for heavy computations.\n",
    "- Not ideal for low-level programming or mobile development."
   ]
  },
  {
   "cell_type": "markdown",
   "metadata": {},
   "source": [
    "#### 2. R"
   ]
  },
  {
   "cell_type": "markdown",
   "metadata": {},
   "source": [
    "**Pros**\n",
    "- Designed specifically for statistical analysis and data visualization.\n",
    "- Rich ecosystem of packages (e.g., ggplot2, dplyr, caret).\n",
    "- Excellent for exploratory data analysis and academic research."
   ]
  },
  {
   "cell_type": "markdown",
   "metadata": {},
   "source": [
    "**Cons**\n",
    "- Steeper learning curve compared to Python.\n",
    "- Less versatile for general-purpose programming or production deployment."
   ]
  },
  {
   "cell_type": "markdown",
   "metadata": {},
   "source": [
    "#### 3. SQL"
   ]
  },
  {
   "cell_type": "markdown",
   "metadata": {},
   "source": [
    "**Pros**\n",
    "- Essential for querying and managing relational databases.\n",
    "- Efficient for handling large datasets and performing data wrangling.\n",
    "- Widely used in industry for data extraction and manipulation."
   ]
  },
  {
   "cell_type": "markdown",
   "metadata": {},
   "source": [
    "**Cons**\n",
    "- Limited to database operations; not suitable for advanced analytics or machine learning.\n",
    "- Requires knowledge of database structures."
   ]
  },
  {
   "cell_type": "markdown",
   "metadata": {},
   "source": [
    "#### Other Languages"
   ]
  },
  {
   "cell_type": "markdown",
   "metadata": {},
   "source": [
    "- **Julia** is gaining traction for high-performance computing.\n",
    "- **Scala** and **Java** are great for big data and enterprise applications.\n",
    "- **MATLAB** is niche but powerful for numerical computing."
   ]
  },
  {
   "cell_type": "markdown",
   "metadata": {},
   "source": [
    "## **Data Science Libraries**"
   ]
  },
  {
   "cell_type": "markdown",
   "metadata": {},
   "source": [
    "As we have great languages, there are also great libraries that Data Scientists can leaverage and have fun. Let's explore them."
   ]
  },
  {
   "cell_type": "markdown",
   "metadata": {},
   "source": [
    "#### 1. Scientifics Computing\n",
    "- **Pandas:** Data Structures and tools\n",
    "- **Numpy:** Arrays and matrices"
   ]
  },
  {
   "cell_type": "markdown",
   "metadata": {},
   "source": [
    "#### 2. Visualization\n",
    "- **Matplotlib:** Plots and graphs\n",
    "- **Seaborn:** Plots (heatmaps, time series, violin plots)"
   ]
  },
  {
   "cell_type": "markdown",
   "metadata": {},
   "source": [
    "#### 3. Machine Learning and Deep Learning\n",
    "- **Scikit-learn:** ML, Regression, Classification, Clustering\n",
    "- **Keras:** Deep Learning Neural Networks"
   ]
  },
  {
   "cell_type": "markdown",
   "metadata": {},
   "source": [
    "#### 4. Deep Learning\n",
    "- **TensorFlow:** Deep Learning (Production and Deploy)\n",
    "- **Pytorch:** Deep Learning (Regression, Classification)"
   ]
  },
  {
   "cell_type": "markdown",
   "metadata": {},
   "source": [
    "## **Data Science Tools**"
   ]
  },
  {
   "cell_type": "markdown",
   "metadata": {},
   "source": [
    "As we saw earlier in this course, Data Science follows a structured process in order to successfully deliver high quality products and services to the world. Therefore, it is important to explore the **most popular tools used in Data Science** so you can succeed as a great Data Scientist in this evolving industry."
   ]
  },
  {
   "cell_type": "markdown",
   "metadata": {},
   "source": [
    "| Data Management | Data Integration and Transformation | Data Visualization | Model Building | Model Deployment | Model Monitoring and Assessment |\n",
    "| --------------- | ----------------------------------- | ------------------ | -------------- | ---------------- | ------------------------------- |\n",
    "| MySql, PostGresSQL, MongoDB, Apache CouchDB, Apache Cassandra, Apache Hadoop, Ceph | Apache Airflow, KubeFlow, Apache Kafka, Apache nifl, Spark SQL, Node red | Pixie Dust, Hue Kibana, Apache Superset | ---- | PredictionIO, Seldom, Kubernetes, OpenShift, MLap, Tensorflow Serving | Model DB, Prometheus, IBM Fairness 360 Open Source Toolkit, Adversarial Robustness 360 Toolbox, AI Explainability 360 |"
   ]
  },
  {
   "cell_type": "markdown",
   "metadata": {},
   "source": [
    "## **Let's have some fun within this Jupyter Notebook (Final Section)**"
   ]
  },
  {
   "cell_type": "markdown",
   "metadata": {},
   "source": [
    "As part of this activity, now let's have some fun by showing up some arithmetic examples. Happy coding!"
   ]
  },
  {
   "cell_type": "markdown",
   "metadata": {},
   "source": [
    "#### 1. Multiplying and adding numbers\n",
    "Let's evaluate the following expression. This is a simple arithmetic expression to mutiply then add integers."
   ]
  },
  {
   "cell_type": "code",
   "execution_count": 1,
   "metadata": {},
   "outputs": [
    {
     "data": {
      "text/plain": [
       "17"
      ]
     },
     "execution_count": 1,
     "metadata": {},
     "output_type": "execute_result"
    }
   ],
   "source": [
    "(3*4)+5"
   ]
  },
  {
   "cell_type": "markdown",
   "metadata": {},
   "source": [
    "### 3. Converting minutes to hours"
   ]
  },
  {
   "cell_type": "markdown",
   "metadata": {},
   "source": [
    "Now let's make it a little interesting so you can take a glance at the host's coding skills"
   ]
  },
  {
   "cell_type": "code",
   "execution_count": 2,
   "metadata": {},
   "outputs": [
    {
     "name": "stdout",
     "output_type": "stream",
     "text": [
      "3 hours\n"
     ]
    }
   ],
   "source": [
    "# Let's declare a simple function\n",
    "def minutes_to_hours(minutes):\n",
    "    return minutes / 60\n",
    "\n",
    "# Now, it is time to use our super function and convert 200 minutes to hours and print it. \n",
    "# NOTE: In our print function we are using f-strings to perform string interpolation so we can edit more easily the text and adding some extra functions such as round that allows us to round the value calculated by our function\n",
    "result = minutes_to_hours(200)\n",
    "print(f\"{round(result)} hours\")"
   ]
  },
  {
   "cell_type": "markdown",
   "metadata": {},
   "source": [
    "## **Objectives**"
   ]
  },
  {
   "cell_type": "markdown",
   "metadata": {},
   "source": [
    "- Compare the most popular Languages used in Data Science along with their pros and cons\n",
    "- Explore the most popular Libraries and Tools  used in Data Science\n",
    "- Have some fun with math and coding"
   ]
  },
  {
   "cell_type": "markdown",
   "metadata": {},
   "source": [
    "## **Author's Name:** Isaac Iniguez Ruiz"
   ]
  }
 ],
 "metadata": {
  "kernelspec": {
   "display_name": "Python 3 (ipykernel)",
   "language": "python",
   "name": "python3"
  },
  "language_info": {
   "codemirror_mode": {
    "name": "ipython",
    "version": 3
   },
   "file_extension": ".py",
   "mimetype": "text/x-python",
   "name": "python",
   "nbconvert_exporter": "python",
   "pygments_lexer": "ipython3",
   "version": "3.12.8"
  }
 },
 "nbformat": 4,
 "nbformat_minor": 4
}
